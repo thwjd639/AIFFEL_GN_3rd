{
 "cells": [
  {
   "cell_type": "markdown",
   "id": "b4e3ba85",
   "metadata": {},
   "source": [
    "# 1. 데이터 수집 - 한 페이지 크롤링"
   ]
  },
  {
   "cell_type": "markdown",
   "id": "8371fb5c",
   "metadata": {},
   "source": [
    "## 1)다나와 검색 페이지 접속\n",
    "\n",
    "크롬 드라이브 다운받기\n",
    "- 크롬 브라우저를 제어하기 위한 드라이버\n",
    "- 크롬 외에도 IE, 파이어폭스등 다양한 브라우저도 가능\n",
    "- 자신의 크롬버전 및 운영체제와 동일한 드라이버를 다운로드"
   ]
  },
  {
   "cell_type": "code",
   "execution_count": 52,
   "id": "2cb37298",
   "metadata": {
    "scrolled": true
   },
   "outputs": [
    {
     "name": "stderr",
     "output_type": "stream",
     "text": [
      "<ipython-input-52-e9ab48089937>:3: DeprecationWarning: executable_path has been deprecated, please pass in a Service object\n",
      "  driver = webdriver.Chrome('C:/Users/thwjd/Documents/chromedriver.exe')\n"
     ]
    }
   ],
   "source": [
    "# selenium으로 '다나와 검색 결과 url'에 접속\n",
    "from selenium import webdriver\n",
    "driver = webdriver.Chrome('C:/Users/thwjd/Documents/chromedriver.exe')\n",
    "url = 'http://search.danawa.com/dsearch.php?k1=%EB%AC%B4%EC%84%A0%EC%B2%AD%EC%86%8C%EA%B8%B0&module=goods&act=dispMain'\n",
    "driver.get(url)"
   ]
  },
  {
   "cell_type": "markdown",
   "id": "632f8d87",
   "metadata": {},
   "source": [
    "로걸 경로 주소를 그대로 복사붙여 넣기를 하면 errpr가 발생한다.    \n",
    "\n",
    "```\n",
    "SyntaxError: (unicode error) 'unicodeescape' codec can't decode bytes in position 2-3: truncated \\UXXXXXXXX escape\n",
    "\n",
    "```\n",
    "    \n",
    "경로의 `\\`를 `/`로 바꿔서 수정하면 해결된다!"
   ]
  },
  {
   "cell_type": "markdown",
   "id": "eb907869",
   "metadata": {},
   "source": [
    "코드가 실행되면 '무선청소기'가 검색된 다나와 페이지가 팝업된다."
   ]
  },
  {
   "cell_type": "markdown",
   "id": "68f9d8c5",
   "metadata": {},
   "source": [
    "## 1) 다나와 검색 웹페이지에서 상품 정보 가져오기"
   ]
  },
  {
   "cell_type": "code",
   "execution_count": 4,
   "id": "d1a5d950",
   "metadata": {},
   "outputs": [],
   "source": [
    "from bs4 import BeautifulSoup\n",
    "\n",
    "# 웹 페이지의 HTML 정보 가져오기\n",
    "html = driver.page_source\n",
    "soup = BeautifulSoup(html, 'html.parser')"
   ]
  },
  {
   "cell_type": "code",
   "execution_count": 5,
   "id": "5559fe75",
   "metadata": {},
   "outputs": [
    {
     "data": {
      "text/plain": [
       "44"
      ]
     },
     "execution_count": 5,
     "metadata": {},
     "output_type": "execute_result"
    }
   ],
   "source": [
    "# url 페이지에 대한 무선청소기 정보 가져오기\n",
    "prod_items = soup.select('li.prod_item')\n",
    "len(prod_items)"
   ]
  },
  {
   "cell_type": "code",
   "execution_count": 10,
   "id": "0209bbab",
   "metadata": {},
   "outputs": [
    {
     "data": {
      "text/plain": [
       "44"
      ]
     },
     "execution_count": 10,
     "metadata": {},
     "output_type": "execute_result"
    }
   ],
   "source": [
    "prod_items = soup.select('ul.product_list > li.prod_item')\n",
    "len(prod_items)"
   ]
  },
  {
   "cell_type": "code",
   "execution_count": 11,
   "id": "b3a20222",
   "metadata": {},
   "outputs": [
    {
     "data": {
      "text/plain": [
       "44"
      ]
     },
     "execution_count": 11,
     "metadata": {},
     "output_type": "execute_result"
    }
   ],
   "source": [
    "prod_items = soup.select('div.main_prodlist > ul.product_list > li.prod_item')\n",
    "len(prod_items)"
   ]
  },
  {
   "cell_type": "code",
   "execution_count": 18,
   "id": "87bc0a31",
   "metadata": {},
   "outputs": [
    {
     "data": {
      "text/plain": [
       "bs4.element.ResultSet"
      ]
     },
     "execution_count": 18,
     "metadata": {},
     "output_type": "execute_result"
    }
   ],
   "source": [
    "# 상품명 정보 가져오기\n",
    "type(prod_items)"
   ]
  },
  {
   "cell_type": "code",
   "execution_count": 16,
   "id": "0a54dcd7",
   "metadata": {},
   "outputs": [
    {
     "data": {
      "text/plain": [
       "<li class=\"prod_item\" id=\"productItem14574131\">\n",
       "<input id=\"productItem_categoryInfo_14574131\" type=\"hidden\" value=\"자동차 용품_차량용전자제품\"/>\n",
       "<input id=\"min_price_14574131\" type=\"hidden\" value=\"46010\"/>\n",
       "<div class=\"prod_main_info\">\n",
       "<div class=\"thumb_image\">\n",
       "<a class=\"thumb_link click_log_product_standard_img_\" href=\"http://prod.danawa.com/info/?pcode=14574131&amp;keyword=%EB%AC%B4%EC%84%A0%EC%B2%AD%EC%86%8C%EA%B8%B0&amp;cate=14237761\" id=\"thumbLink_14574131\" onmousedown=\"_trkEventLog('통합검색_상품블로그_유입');\" target=\"_blank\">\n",
       "<img alt=\"차량용 청소기 A3 (해외구매)\" onerror=\"this.onerror=null; this.src='//img.danawa.com/new/noData/img/noImg_160.gif';\" src=\"//img.danawa.com/prod_img/500000/131/574/img/14574131_1.jpg?shrink=130:130&amp;_v=20220506174617\"/>\n",
       "</a>\n",
       "<a class=\"btn_view_zoom\" data-assemblygallerycategory=\"N\" href=\"#\" id=\"imageZoom_14574131\" onclick=\"return false;\">\n",
       "<span class=\"ico i_zoom_vw\"></span>이미지보기\n",
       "\t\t\t\t\t\t\t</a>\n",
       "<input id=\"hidden_cate_sub_c1\" type=\"hidden\" value=\"1840\"/>\n",
       "<input id=\"hidden_cate_sub_c2\" type=\"hidden\" value=\"59152\"/>\n",
       "<input id=\"hidden_cate_sub_c3\" type=\"hidden\" value=\"59189\"/>\n",
       "</div>\n",
       "<div class=\"prod_info\">\n",
       "<p class=\"prod_name\">\n",
       "<a class=\"click_log_product_standard_title_\" href=\"http://prod.danawa.com/info/?pcode=14574131&amp;keyword=%EB%AC%B4%EC%84%A0%EC%B2%AD%EC%86%8C%EA%B8%B0&amp;cate=14237761\" onmousedown=\"_trkEventLog('통합검색_상품블로그_유입'); doCTR('%EB%AC%B4%EC%84%A0%EC%B2%AD%EC%86%8C%EA%B8%B0','14574131',1);\" target=\"_blank\">베이스어스 차량용 <b>청소기</b> A3 (해외구매)</a>\n",
       "</p>\n",
       "<dl class=\"prod_spec_set\">\n",
       "<dt class=\"screen_out\">상세 스펙</dt>\n",
       "<dd>\n",
       "<div class=\"spec_list\">\n",
       "\t\t\t\t\t\t\t\t차량용<b>청소기</b> / \t\t\t\t\t\t\t\t\t\t\t\t\t\t\t\t\t\t\t\t<a class=\"view_dic\" href=\"#\" onclick=\"$.termDicViewLink(214056, 'view', this, 0, 1840, 59152); return false;\"><b>무선</b></a>\n",
       "\t\t\t\t\t\t\t\t / 흡입력: \t\t\t\t\t\t\t\t\t\t\t\t\t\t\t\t\t\t\t\t<a class=\"view_dic\" href=\"#\" onclick=\"$.termDicViewLink(214065, 'view', this, 0, 1840, 59152); return false;\">15,000Pa</a>\n",
       "\t\t\t\t\t\t\t\t / 최대출력: 135W / 헤파필터 / 추가노즐: \t\t\t\t\t\t\t\t\t\t\t\t\t\t\t\t\t\t\t\t<a class=\"view_dic\" href=\"#\" onclick=\"$.termDicViewLink(214068, 'view', this, 0, 1840, 59152); return false;\">틈새</a>\n",
       "\t\t\t\t\t\t\t\t, \t\t\t\t\t\t\t\t\t\t\t\t\t\t\t\t\t\t\t\t<a class=\"view_dic\" href=\"#\" onclick=\"$.termDicViewLink(214071, 'view', this, 0, 1840, 59152); return false;\">솔브러쉬</a>\n",
       "\t\t\t\t\t\t\t\t / LED라이트 / 사용시간: \t\t\t\t\t\t\t\t\t\t\t\t\t\t\t\t\t\t\t\t<a class=\"view_dic\" href=\"#\" onclick=\"$.termDicViewLink(214167, 'view', this, 0, 1840, 59152); return false;\">45분</a>\n",
       "\t\t\t\t\t\t\t\t / 배터리 잔량표시 / 소음: 75dB / 충전방식: USB C타입 / 충전시간: 3~5시간 / 색상: 블랙, 실버 / 크기: 296x56.5mm\t\t\t\t\t\t\t\t</div>\n",
       "</dd>\n",
       "</dl>\n",
       "<div class=\"relation_goods_unit\" id=\"relation_goods_unit_14574131\"></div>\n",
       "<div class=\"prod_rel_content\">\n",
       "<dl class=\"rel_item rel_event\">\n",
       "<dt>기획전</dt>\n",
       "<dd><a href=\"http://plan.danawa.com/info/?nPlanSeq=6535\" rel=\"noopener\" target=\"_blank\">믿고 쓰는 베스트 브랜드 \n",
       "차량용 가전 기획전</a></dd>\n",
       "</dl>\n",
       "</div>\n",
       "<div class=\"prod_sub_info\">\n",
       "<div class=\"prod_sub_meta\">\n",
       "<dl class=\"meta_item mt_date\">\n",
       "<dt>등록월</dt>\n",
       "<dd>2021.05.</dd>\n",
       "</dl>\n",
       "<dl class=\"meta_item mt_comment\">\n",
       "<dt><span class=\"dt_behind\">상품의견</span></dt>\n",
       "<dd>\n",
       "<div class=\"cnt_star\">\n",
       "<div class=\"point_type_list\">\n",
       "<div class=\"mask\" style=\"width:91%\">\n",
       "</div>\n",
       "</div>\n",
       "<div class=\"point_num\">\n",
       "<strong>4.5</strong>점\n",
       "\t\t\t\t\t\t\t\t\t\t\t\t\t</div>\n",
       "</div>\n",
       "<div class=\"cnt_opinion\">\n",
       "\t\t\t\t\t\t\t\t\t\t\t\t\t(<a class=\"click_log_prod_content_count\" href=\"http://prod.danawa.com/info/?pcode=14574131&amp;keyword=%EB%AC%B4%EC%84%A0%EC%B2%AD%EC%86%8C%EA%B8%B0&amp;cate=14237761#bookmark_cm_opinion\" onmousedown=\"_trkEventLog('통합검색_상품블로그_유입');\" target=\"_blank\"><strong>181</strong></a>건)\n",
       "\t\t\t\t\t\t\t\t\t\t\t\t</div>\n",
       "</dd>\n",
       "</dl>\n",
       "<dl class=\"meta_item\">\n",
       "<dt class=\"screen_out\">관심상품</dt>\n",
       "<dd>\n",
       "<a class=\"click_log_wishList\" href=\"#\" onclick=\"javascript:$.danawaAddProductToWishList(this, '14574131', 'search', '', '', '46010');return false;\" onmousedown=\"doCTR('%EB%AC%B4%EC%84%A0%EC%B2%AD%EC%86%8C%EA%B8%B0','14574131',4);\" title=\"관심상품에 담기\">관심상품</a>\n",
       "</dd>\n",
       "<input id=\"wishListBundleVal_14574131\" type=\"hidden\" value=\"//베이스어스 차량용 &lt;b&gt;청소기&lt;/b&gt; A3 (해외구매)\"/>\n",
       "</dl>\n",
       "</div>\n",
       "<dl class=\"prod_category_location\">\n",
       "<dt class=\"screen_out\">상품분류</dt>\n",
       "<dd>\n",
       "<a href=\"http://prod.danawa.com/list/?cate=14237761\" onmousedown=\"doCTR('%EB%AC%B4%EC%84%A0%EC%B2%AD%EC%86%8C%EA%B8%B0','14574131',3);\" target=\"_blank\"><span>블박/내비/전자제품</span> &gt; <span>청소기</span></a> <div class=\"more_cate_layer\" style=\"display: none; z-index: 1;\">\n",
       "<ul class=\"list_category_location\">\n",
       "</ul>\n",
       "</div>\n",
       "</dd>\n",
       "</dl>\n",
       "</div>\n",
       "</div>\n",
       "<div class=\"prod_pricelist\" data-cate=\"1840|59152|59189|0\">\n",
       "<ul>\n",
       "<li class=\"rank_one\" id=\"productInfoDetail_14574131\">\n",
       "<p class=\"chk_sect\">\n",
       "\t\t\t\t\t\t\t\t\t\t131몰\n",
       "\t\t\t\t\t\t\t\t\t\t\t\t\t\t\t\t\t\t\t\t\t<label for=\"prodCompareCheck_14574131\">\n",
       "<input id=\"prodCompareCheck_14574131\" type=\"checkbox\"/><strong>상품비교</strong>\n",
       "</label>\n",
       "<input name=\"compareValue\" type=\"hidden\" value=\"14574131\"/>\n",
       "<input name=\"compareRepValue\" type=\"hidden\" value=\"14574131\"/>\n",
       "</p>\n",
       "<p class=\"price_sect\">\n",
       "<a class=\"click_log_product_standard_price_\" href=\"http://prod.danawa.com/info/?pcode=14574131&amp;keyword=%EB%AC%B4%EC%84%A0%EC%B2%AD%EC%86%8C%EA%B8%B0&amp;cate=14237761\" onmousedown=\"doCTR('%EB%AC%B4%EC%84%A0%EC%B2%AD%EC%86%8C%EA%B8%B0','14574131',1);; _trkEventLog('통합검색_상품블로그_유입'); \" target=\"_blank\"><strong>46,010</strong>원</a>\n",
       "<span class=\"more_btn_wrap\">\n",
       "<button class=\"ico i_more\">가격정보 더보기</button>\n",
       "<span class=\"layer_price_more\" id=\"layer_price_more_14574131\"></span>\n",
       "<span class=\"sep_line\"></span>\n",
       "</span>\n",
       "</p>\n",
       "<p class=\"memory_sect\">\n",
       "<a class=\"\" href=\"http://prod.danawa.com/info/?pcode=14574131&amp;keyword=%EB%AC%B4%EC%84%A0%EC%B2%AD%EC%86%8C%EA%B8%B0&amp;cate=14237761\" onmousedown=\"doCTR('%EB%AC%B4%EC%84%A0%EC%B2%AD%EC%86%8C%EA%B8%B0','14574131',1);\" target=\"_blank\">\n",
       "</a>\n",
       "</p>\n",
       "</li>\n",
       "</ul>\n",
       "</div>\n",
       "</div>\n",
       "</li>"
      ]
     },
     "execution_count": 16,
     "metadata": {},
     "output_type": "execute_result"
    }
   ],
   "source": [
    "prod_items[0]"
   ]
  },
  {
   "cell_type": "code",
   "execution_count": 17,
   "id": "77579c9a",
   "metadata": {},
   "outputs": [
    {
     "name": "stdout",
     "output_type": "stream",
     "text": [
      "베이스어스 차량용 청소기 A3 (해외구매)\n"
     ]
    }
   ],
   "source": [
    "title = prod_items[0].select('p.prod_name > a')[0].text.strip()\n",
    "print(title)"
   ]
  },
  {
   "cell_type": "code",
   "execution_count": 21,
   "id": "362fc772",
   "metadata": {},
   "outputs": [
    {
     "name": "stdout",
     "output_type": "stream",
     "text": [
      "차량용청소기 / \t\t\t\t\t\t\t\t\t\t\t\t\t\t\t\t\t\t\t\t무선\n",
      "\t\t\t\t\t\t\t\t / 흡입력: \t\t\t\t\t\t\t\t\t\t\t\t\t\t\t\t\t\t\t\t15,000Pa\n",
      "\t\t\t\t\t\t\t\t / 최대출력: 135W / 헤파필터 / 추가노즐: \t\t\t\t\t\t\t\t\t\t\t\t\t\t\t\t\t\t\t\t틈새\n",
      "\t\t\t\t\t\t\t\t, \t\t\t\t\t\t\t\t\t\t\t\t\t\t\t\t\t\t\t\t솔브러쉬\n",
      "\t\t\t\t\t\t\t\t / LED라이트 / 사용시간: \t\t\t\t\t\t\t\t\t\t\t\t\t\t\t\t\t\t\t\t45분\n",
      "\t\t\t\t\t\t\t\t / 배터리 잔량표시 / 소음: 75dB / 충전방식: USB C타입 / 충전시간: 3~5시간 / 색상: 블랙, 실버 / 크기: 296x56.5mm\n"
     ]
    }
   ],
   "source": [
    "# 상품 스펙 목록 정보 가져오기\n",
    "spec_list = prod_items[0].select('div.spec_list')[0].text.strip()\n",
    "print(spec_list)"
   ]
  },
  {
   "cell_type": "code",
   "execution_count": 28,
   "id": "6a640f98",
   "metadata": {},
   "outputs": [
    {
     "name": "stdout",
     "output_type": "stream",
     "text": [
      "\n",
      "\t\t\t\t\t\t\t\t차량용청소기 / \t\t\t\t\t\t\t\t\t\t\t\t\t\t\t\t\t\t\t\t무선\n",
      "\t\t\t\t\t\t\t\t / 흡입력: \t\t\t\t\t\t\t\t\t\t\t\t\t\t\t\t\t\t\t\t15,000Pa\n",
      "\t\t\t\t\t\t\t\t / 최대출력: 135W / 헤파필터 / 추가노즐: \t\t\t\t\t\t\t\t\t\t\t\t\t\t\t\t\t\t\t\t틈새\n",
      "\t\t\t\t\t\t\t\t, \t\t\t\t\t\t\t\t\t\t\t\t\t\t\t\t\t\t\t\t솔브러쉬\n",
      "\t\t\t\t\t\t\t\t / LED라이트 / 사용시간: \t\t\t\t\t\t\t\t\t\t\t\t\t\t\t\t\t\t\t\t45분\n",
      "\t\t\t\t\t\t\t\t / 배터리 잔량표시 / 소음: 75dB / 충전방식: USB C타입 / 충전시간: 3~5시간 / 색상: 블랙, 실버 / 크기: 296x56.5mm\t\t\t\t\t\t\t\t\n"
     ]
    }
   ],
   "source": [
    "spec_tmp = prod_items[0].select('div.spec_list')[0].text\n",
    "print(spec_tmp)"
   ]
  },
  {
   "cell_type": "markdown",
   "id": "94daa76f",
   "metadata": {},
   "source": [
    "`.strip()`는 문장의 앞 뒤의 공백을 제거해 준다."
   ]
  },
  {
   "cell_type": "code",
   "execution_count": 22,
   "id": "e96c6daf",
   "metadata": {},
   "outputs": [
    {
     "name": "stdout",
     "output_type": "stream",
     "text": [
      "차량용청소기 / 무선 / 흡입력: 15,000Pa / 최대출력: 135W / 헤파필터 / 추가노즐: 틈새, 솔브러쉬 / LED라이트 / 사용시간: 45분 / 배터리 잔량표시 / 소음: 75dB / 충전방식: USB C타입 / 충전시간: 3~5시간 / 색상: 블랙, 실버 / 크기: 296x56.5mm\n"
     ]
    }
   ],
   "source": [
    "spec_list = spec_list.replace('\\t', '').replace('\\n', '')\n",
    "print(spec_list)"
   ]
  },
  {
   "cell_type": "code",
   "execution_count": 24,
   "id": "78fa576d",
   "metadata": {},
   "outputs": [
    {
     "name": "stdout",
     "output_type": "stream",
     "text": [
      "46,010\n"
     ]
    }
   ],
   "source": [
    "# 가격 정보 가져오기\n",
    "price = prod_items[0].select('li.rank_one > p.price_sect > a > strong')[0].text.strip().replace('\\t', '').replace('\\n', '')\n",
    "print(price)"
   ]
  },
  {
   "cell_type": "code",
   "execution_count": 32,
   "id": "d60fbc10",
   "metadata": {},
   "outputs": [
    {
     "name": "stdout",
     "output_type": "stream",
     "text": [
      "40\n",
      "[['베이스어스 차량용 청소기 A3 (해외구매)', '차량용청소기 / 무선 / 흡입력: 15,000Pa / 최대출력: 135W / 헤파필터 / 추가노즐: 틈새, 솔브러쉬 / LED라이트 / 사용시간: 45분 / 배터리 잔량표시 / 소음: 75dB / 충전방식: USB C타입 / 충전시간: 3~5시간 / 색상: 블랙, 실버 / 크기: 296x56.5mm', '46,010'], ['LG전자 오브제컬렉션 코드제로 ThinQ A9S AO9571', '핸디/스틱청소기 / 무선형 / 흡입+걸레겸용 / 흡입력: 210W / [배터리] 분리형 (2개) / 충전시간: 4시간 / 사용시간(개당): 1시간 / [성능] 스마트인버터모터 / 분리형배기필터 / 헤파필터 / 5단계여과 / [기능] 자동물공급 / 배터리잔량표시 / IoT기능 / 자동먼지비움 / [구성] 바닥 / 물걸레 / 침구 / 솔형 / 틈새 / 올인원타워 / [부가] 색상: 카밍베이지 / 무게: 2.6kg / 크기(가로x세로x깊이): 250x1120x260mm', '963,540'], ['LG전자 오브제컬렉션 코드제로 ThinQ A9S AT9201WC', '핸디/스틱청소기 / 무선형 / 흡입+걸레겸용 / 흡입력: 210W / [배터리] 분리형 (1개) / 충전시간: 4시간 / 사용시간(개당): 1시간 / [성능] 스마트인버터모터 / 분리형배기필터 / 헤파필터 / 5단계여과 / [기능] 자동물공급 / 배터리잔량표시 / IoT기능 / 자동먼지비움 / [구성] 바닥 / 솔형 / 틈새 / 올인원타워 / [부가] 색상: 카밍베이지 / 무게: 2.6kg / 크기(가로x세로x깊이): 250x1120x260mm', '682,950'], ['샤오미 드리미 V11 SE', '핸디/스틱청소기 / 무선형 / 흡입전용 / 흡입력: 150AW / 흡입력: 24000Pa / [배터리] 충전시간: 3시간30분 / 사용시간(개당): 1시간 / [성능] 5단계여과 / [기능] 배터리잔량표시 / [구성] 바닥 / 침구 / 솔형 / 틈새 / 연장툴 / 거치대 / [부가] 먼지통용량: 0.5L / 색상: 실버그레이 / 무게: 1.6kg', '162,390'], ['샤오미 LYDSTO 차량용 무선 청소기 H2 (해외구매)', '차량용청소기 / 무선 / 흡입력: 16,000Pa / 최대출력: 120W / 헤파필터 / 추가노즐: 틈새, 솔브러쉬 / 사용시간: 32분 / 소음: 85dB 미만 / 충전방식: USB C타입 / 색상: 블랙, 화이트 / 크기: 56x265mm', '34,320'], ['샤오미 CLEANFLY 차량용 무선 청소기 4세대 H2 (해외구매)', '차량용청소기 / 무선 / 흡입력: 16,800Pa / 최대출력: 120W / 헤파필터 / 스테인리스 필터 / 추가노즐: 틈새, 솔브러쉬, 연장호스 / 사용시간: 30분 / 소음: 73.8dB / 충전방식: USB C타입 / 배터리용량: 2,000mAh / 색상: 블랙, 화이트 / 크기: 369x72mm / 무게: 560g', '60,430'], ['삼성전자 비스포크 제트 VS20A956A3', '핸디/스틱청소기 / 무선형 / 흡입+걸레겸용 / 흡입력: 210W / [배터리] 분리형 (1개) / 충전시간: 3시간30분 / 사용시간(개당): 1시간 / [성능] 디지털인버터모터 / 5단계여과 / [기능] 자동물공급 / 디스플레이표시창 / 배터리잔량표시 / 자동먼지비움 / [구성] 바닥 / 솔형 / 틈새 / 연장툴 / 청정스테이션 / [부가] 먼지통용량: 0.5L / 색상: 미스티화이트 / 무게: 2.5kg / 액세서리크래들  / 크기(가로x세로x깊이): 250x930x202mm', '494,700'], ['샤오미 미지아 차량용 핸디 무선 청소기 (해외구매)', '차량용청소기 / 무선 / 흡입력: 13,000Pa / 최대출력: 120W / 헤파필터 / 추가노즐: 틈새, 솔브러쉬 / 사용시간: 9~30분 / 버튼 잠금 장치 / 2단 세기 조절 / 크기: 55x267mm / 무게: 500g', '39,760'], ['삼성전자 비스포크 제트 VS20A957E3', '핸디/스틱청소기 / 무선형 / 흡입+걸레겸용 / 흡입력: 210W / [배터리] 분리형 (2개) / 충전시간: 3시간30분 / 사용시간(개당): 1시간 / [성능] 디지털인버터모터 / 5단계여과 / [기능] 자동물공급 / 디스플레이표시창 / 배터리잔량표시 / 자동먼지비움 / [구성] 바닥 / 물걸레 / 침구 / 솔형 / 틈새 / 연장툴 / 청정스테이션 / [부가] 먼지통용량: 0.5L / 색상: 미드나잇블루 / 무게: 2.5kg / 액세서리크래들  / 크기(가로x세로x깊이): 250x930x202mm', '675,390'], ['DIBEA 차이슨 ALLNEW22000 (2022년형)', '핸디/스틱청소기 / 무선형 / 흡입+걸레겸용 / 흡입력: 35000Pa / [배터리] 충전시간: 4~5시간 / 사용시간(개당): 40분 / [성능] BLDC모터 / 헤파필터 / 4단계여과 / [기능] LED라이트 / 배터리잔량표시 / [구성] 바닥 / 침구 / 솔형 / 틈새 / 연장툴 / 거치대 / [부가] 먼지통용량: 0.55L / 무게: 2.2kg / 크기(가로x세로x깊이): 240x1040x212mm', '178,000'], ['다이슨 V10 플러피 오리진', '핸디/스틱청소기 / 무선형 / 흡입전용 / 흡입력: 151AW / [배터리] 충전시간: 3시간30분 / 사용시간(개당): 1시간 / [구성] 소프트롤러 / 미니모터 / 솔형 / 더스팅 / 틈새 / 도킹스테이션 / [부가] 먼지통용량: 0.5L / 색상: 레드 / 무게: 2.5kg / 크기(가로x세로x깊이): 256x1241x250mm', '462,080'], ['삼성전자 비스포크 제트 VS20A957D2', '핸디/스틱청소기 / 무선형 / 흡입+걸레겸용 / 흡입력: 210W / [배터리] 분리형 (2개) / 충전시간: 3시간30분 / 사용시간(개당): 1시간 / [성능] 디지털인버터모터 / 5단계여과 / [기능] 자동물공급 / 디스플레이표시창 / 배터리잔량표시 / 자동먼지비움 / [구성] 바닥 / 물걸레 / 솔형 / 틈새 / 청정스테이션 / [부가] 먼지통용량: 0.5L / 색상: 미드나잇블루 / 무게: 2.5kg / 액세서리크래들  / 크기(가로x세로x깊이): 250x930x202mm', '601,520'], ['조아스 차량용 에어건 청소기 JVC-2000', '차량용청소기 / 무선 / 흡입력: 5,500Pa / 최대출력: 60W / 헤파필터 / 추가노즐: 틈새, 솔브러쉬 / 사용시간: 20분 / 충전시간: 2시간 / 충전방식: USB C타입 / 크기: 142x172mm / 무게: 280g', '39,800'], ['삼성전자 비스포크 제트 VS20B957E5', '핸디/스틱청소기 / 무선형 / 흡입+걸레겸용 / 흡입력: 220W / [배터리] 분리형 (1개) / 충전시간: 3시간30분 / 사용시간(개당): 1시간 / [성능] 디지털인버터모터 / 5단계여과 / [기능] 자동물공급 / 디스플레이표시창 / LED라이트 / 배터리잔량표시 / IoT기능 / 자동먼지비움 / [구성] 바닥 / 물걸레 / 침구 / 솔형 / 틈새 / 연장툴 / 청정스테이션 / [부가] 먼지통용량: 0.5L / 색상: 산토리니베이지 / 크기(가로x세로x깊이): 250x930x202mm', '748,830'], ['카렉스 파워스톰 미니 무선청소기', '차량용청소기 / 무선 / 흡입력: 12,000Pa / 2중필터 / 헤파필터 / 추가노즐: 틈새, 솔브러쉬 / 사용시간: 17분 / 충전방식: 시거잭, 220V / BLCD모터 / 충전시간: 5시간30분 / 크기: 93x439mm / 무게: 505g', '69,680'], ['LG전자 코드제로 A9 A9100N', '핸디/스틱청소기 / 무선형 / 흡입+걸레겸용 / 흡입력: 140W / [배터리] 분리형 (1개) / 충전시간: 4시간 / 사용시간(개당): 50분 / [성능] 인버터모터 / 헤파필터 / 5단계여과 / [기능] 배터리잔량표시 / [구성] 바닥 / 솔형 / 틈새 / 거치대 / [부가] 색상: 판타지실버 / 크기(가로x세로x깊이): 250x1120x260mm', '495,770'], ['다이슨 V12 디텍트 슬림 컴플리트', '핸디/스틱청소기 / 무선형 / 흡입전용 / 흡입력: 150AW / [배터리] 분리형 (1개) / 충전시간: 3시간30분 / 사용시간(개당): 1시간 / [성능] 헤파필터 / [기능] 먼지감지센서 / 디스플레이표시창 / [구성] 레이저슬림플러피 / 다이렉트드라이브 / 헤어스크류 / 솔형 / 더스팅 / 스터번더트 / 틈새 / 거치대 / 도킹스테이션 / [부가] 먼지통용량: 0.35L / 색상: 옐로우/아이언/니켈 / 무게: 2.2kg / 크기(가로x세로x깊이): 250x1095x251mm', '883,120'], ['삼성전자 비스포크 제트 VS20B956AX', '핸디/스틱청소기 / 무선형 / 흡입+걸레겸용 / 흡입력: 220W / [배터리] 분리형 (1개) / 충전시간: 3시간30분 / 사용시간(개당): 1시간 / [성능] 디지털인버터모터 / 5단계여과 / [기능] 자동물공급 / 디스플레이표시창 / LED라이트 / 배터리잔량표시 / IoT기능 / 자동먼지비움 / [구성] 바닥 / 솔형 / 틈새 / 연장툴 / 청정스테이션 / [부가] 먼지통용량: 0.5L / 색상: 산토리니베이지 / 크기(가로x세로x깊이): 250x930x202mm', '551,210'], ['한라홀딩스 만도 소형 청소기 MC-100', '차량용청소기 / 무선 / 흡입력: 8,000Pa / 헤파필터 / 스테인리스 필터 / 추가노즐: 틈새, 솔브러쉬, 연장호스 / LED라이트 / 사용시간: 20분 / 충전방식: USB C타입 / 배터리용량: 6,000mAh 크기: 241x71x50mm / 무게: 550g', '86,800'], ['LG전자 코드제로 ThinQ A9S AS9470', '핸디/스틱청소기 / 무선형 / 흡입+걸레겸용 / 흡입력: 200W / [배터리] 분리형 (2개) / 충전시간: 4시간 / 사용시간(개당): 1시간 / [성능] 스마트인버터모터 / 일체형배기필터 / 헤파필터 / 5단계여과 / [기능] 자동물공급 / 배터리잔량표시 / IoT기능 / 자동먼지비움 / [구성] 바닥 / 물걸레 / 솔형 / 틈새 / 올인원타워 / [부가] 색상: 아이언그레이 / 무게: 2.6kg / 크기(가로x세로x깊이): 250x1120x260mm', '748,440'], ['아이엠듀 더스트 닥터 차량용 청소기 V6', '차량용청소기 / 무선 / 흡입력: 13,000Pa / 최대출력: 135W / 헤파필터 / 추가노즐: 틈새, 솔브러쉬 / 무게: 410g / 크기: 252x55x55mm', '49,450'], ['일렉트로룩스 WELL Q6 WQ61-1EDB', '핸디/스틱청소기 / 무선형 / 흡입전용 / [배터리] 내장형 / 충전시간: 4시간30분 / 사용시간(개당): 45분 / [성능] 5단계여과 / [기능] 브러쉬자동청소 / 셀프스탠딩 / LED라이트 / 배터리잔량표시 / [구성] 바닥 / 솔형 / 더스팅 / 긴틈새 / 거치대 / [부가] 먼지통용량: 0.3L / 색상: 데님블루 / 무게: 2.65kg / 크기(가로x세로x깊이): 258x1105x140mm', '140,220'], ['위드앤올 2in1 휴대용 무선 에어건 핸디 청소기 WNA-AG8', '차량용청소기 / 무선 / 흡입력: 8,000Pa / 최대출력: 75W / 추가노즐: 틈새, 솔브러쉬 / 사용시간: 40분 / 충전시간: 3시간 / 배터리용량: 6,000mAh / 크기: 223.5x84x65mm / 무게: 378g', '77,880'], ['LG전자 코드제로 ThinQ A9S AS9370IKT', '핸디/스틱청소기 / 무선형 / 흡입+걸레겸용 / 흡입력: 200W / [배터리] 분리형 (1개) / 충전시간: 4시간 / 사용시간(개당): 1시간 / [성능] 스마트인버터모터 / 헤파필터 / 5단계여과 / [기능] 자동물공급 / 배터리잔량표시 / IoT기능 / 자동먼지비움 / [구성] 바닥 / 물걸레 / 솔형 / 틈새 / 올인원타워 / [부가] 색상: 아이언그레이+딥그레이 / 무게: 2.6kg / 크기(가로x세로x깊이): 250x1120x260mm', '687,250'], ['LG전자 코드제로 ThinQ A9S AS9271', '핸디/스틱청소기 / 무선형 / 흡입+걸레겸용 / 흡입력: 210W / [배터리] 분리형 (1개) / 충전시간: 4시간 / 사용시간(개당): 1시간 / [성능] 스마트인버터모터 / 분리형배기필터 / 헤파필터 / 5단계여과 / [기능] 자동물공급 / 배터리잔량표시 / IoT기능 / 자동먼지비움 / [구성] 바닥 / 물걸레 / 솔형 / 틈새 / 거치대 / [부가] 색상: 아이언그레이 / 무게: 2.6kg / 크기(가로x세로x깊이): 250x1120x260mm', '550,760'], ['LG전자 오브제컬렉션 코드제로 ThinQ A9S AS9201WC', '핸디/스틱청소기 / 무선형 / 흡입+걸레겸용 / 흡입력: 210W / [배터리] 분리형 (1개) / 충전시간: 4시간 / 사용시간(개당): 1시간 / [성능] 인버터모터 / 분리형배기필터 / 헤파필터 / 5단계여과 / [기능] 자동물공급 / 디스플레이표시창 / 배터리잔량표시 / IoT기능 / [구성] 바닥 / 솔형 / 틈새 / 거치대 / [부가] 색상: 카밍베이지 / 크기(가로x세로x깊이): 250x1120x260mm', '547,170'], ['캐치웰 차량용 핸디 텀블러 청소기 THC1000', '차량용청소기 / 무선 / 흡입력: 8,000Pa / 최대출력: 75W / 헤파필터 / 스테인리스 필터 / 추가노즐: 틈새, 솔브러쉬, 연장호스 / 싸이클론 / 사용시간: 20~28분 / 충전시간: 4시간 / 무게: 580g / 색상: 그레이, 화이트, 블랙', '39,900'], ['삼성전자 비스포크 제트 VS20A956AVW', '핸디/스틱청소기 / 무선형 / 흡입+걸레겸용 / 흡입력: 210W / [배터리] 분리형 (1개) / 충전시간: 3시간30분 / 사용시간(개당): 1시간 / [성능] 디지털인버터모터 / 5단계여과 / [기능] 자동물공급 / 디스플레이표시창 / 배터리잔량표시 / 자동먼지비움 / [구성] 바닥 / 솔형 / 틈새 / 청정스테이션 / [부가] 먼지통용량: 0.5L / 색상: 미스티화이트 / 무게: 2.5kg / 크기(가로x세로x깊이): 250x930x202mm', '463,040'], ['샤오미 드리미 V10', '핸디/스틱청소기 / 무선형 / 흡입전용 / 흡입력: 140AW / 흡입력: 22000Pa / [배터리] 충전시간: 3시간30분 / 사용시간(개당): 1시간 / [성능] BLDC모터 / 헤파필터 / 5단계여과 / [구성] 바닥 / 침구 / 솔형 / 틈새 / 연장툴 / 거치대 / [부가] 먼지통용량: 0.5L / 색상: 화이트 / 무게: 1.5kg', '168,910'], ['오아 클린보틀 차량용 청소기 OA-CL002', '차량용청소기 / 무선 / 흡입력: 6,500Pa / 헤파필터 / 추가노즐: 틈새, 솔브러쉬 / 사용시간: 20분 / 충전시간: 2.5시간 / 크기: 73x73x305mm / 무게 : 703g', '57,900'], ['차량용 MAX 무선 청소기 X111-DK', '차량용청소기 / 무선 / 흡입력: 5000Pa / 헤파필터 / 사용시간: 20분 / 크기: 280x72mm / 무게: 780g', '48,280'], ['LG전자 오브제컬렉션 코드제로 ThinQ A9S AO9471WKT', '핸디/스틱청소기 / 무선형 / 흡입+걸레겸용 / 흡입력: 210W / [배터리] 분리형 (2개) / 충전시간: 4시간 / 사용시간(개당): 1시간 / [성능] 스마트인버터모터 / 분리형배기필터 / 헤파필터 / 5단계여과 / [기능] 자동물공급 / 배터리잔량표시 / IoT기능 / 자동먼지비움 / [구성] 바닥 / 물걸레 / 솔형 / 틈새 / 올인원타워 / [부가] 색상: 카밍베이지 / 무게: 2.6kg / 크기(가로x세로x깊이): 250x1120x260mm', '904,410'], ['제이엠스퀘어 바넥스 차량용 무선 청소기 BX-C30', '차량용청소기 / 무선 / 흡입력: 5,200Pa / 최대출력: 80W / 헤파필터 / 추가노즐: 솔브러쉬 / 사용시간: 20분 / 크기: 235x65x65mm / 무게: 595g / 충전시간: 4시간 / 먼지통용량: 120ml', '39,900'], ['로엘 듀스핀3 PRO', '물걸레청소기 / 스틱형 / 물걸레전용 / 회전식 / 무선형 / 충전시간: 4시간 / 사용시간(개당): 3시간 / [기능] 물분사 / 각도조절 / 셀프스탠딩 / [부가] 먼지통용량: 0.24L / 색상: 화이트 / 무게: 1.99kg / 자동세척탈수 / 크기(가로x세로x깊이): 360x1160x170mm', '177,900'], ['샤오미 CLEANFLY 차량용 무선 청소기 3세대 (해외구매)', '차량용청소기 / 무선 / 흡입력: 16,800Pa / 최대출력: 120W / 헤파필터 / 스테인리스 필터 / 추가노즐: 틈새, 솔브러쉬, 연장호스 / 사용시간: 25분 / 크기: 369x72mm / 무게: 560g / 충전방식: USB C타입 / 배터리용량: 2,000mAh', '58,090'], ['삼성전자 비스포크 제트 VS20A956A3 + 물걸레', '핸디/스틱청소기 / 무선형 / 흡입+걸레겸용 / 흡입력: 210W / [배터리] 분리형 (1개) / 충전시간: 3시간30분 / 사용시간(개당): 1시간 / [성능] 디지털인버터모터 / 5단계여과 / [기능] 자동물공급 / 디스플레이표시창 / 배터리잔량표시 / 자동먼지비움 / [구성] 바닥 / 물걸레 / 솔형 / 틈새 / 연장툴 / 청정스테이션 / [부가] 먼지통용량: 0.5L / 색상: 미스티화이트 / 무게: 2.5kg / 액세서리크래들  / 크기(가로x세로x깊이): 250x930x202mm', '597,200'], ['LG전자 오브제컬렉션 코드제로 ThinQ A9S AT9401WC', '핸디/스틱청소기 / 무선형 / 흡입+걸레겸용 / 흡입력: 210W / [배터리] 분리형 (2개) / 충전시간: 4시간 / 사용시간(개당): 1시간 / [성능] 스마트인버터모터 / 분리형배기필터 / 헤파필터 / 5단계여과 / [기능] 자동물공급 / 배터리잔량표시 / IoT기능 / 자동먼지비움 / [구성] 바닥 / 솔형 / 틈새 / 올인원타워 / [부가] 색상: 카밍베이지 / 무게: 2.6kg / 크기(가로x세로x깊이): 250x1120x260mm', '817,810'], ['삼성전자 제트 VS15R8500BF', '핸디/스틱청소기 / 무선형 / 흡입+걸레겸용 / 흡입력: 150W / [배터리] 분리형 (1개) / 충전시간: 3시간30분 / 사용시간(개당): 40분 / [성능] 인버터모터 / 헤파필터 / 5단계여과 / [기능] 디스플레이표시창 / 프리볼트 / [구성] 바닥 / 솔형 / 틈새 / 거치대 / [부가] 먼지통용량: 0.5L / 색상: 틸민트 / 무게: 2.57kg / 크기(가로x세로x깊이): 250x1123x215mm', '357,153'], ['삼성전자 비스포크 제트 VS20B957G5', '핸디/스틱청소기 / 무선형 / 흡입+걸레겸용 / 흡입력: 220W / [배터리] 분리형 (2개) / 충전시간: 3시간30분 / 사용시간(개당): 1시간 / [성능] 디지털인버터모터 / 5단계여과 / [기능] 자동물공급 / 디스플레이표시창 / LED라이트 / 배터리잔량표시 / IoT기능 / 자동먼지비움 / [구성] 바닥 / 물걸레 / 침구 / 펫 / 솔형 / 틈새 / 연장툴 / 청정스테이션 / [부가] 먼지통용량: 0.5L / 색상: 이브닝코랄 / 크기(가로x세로x깊이): 250x930x202mm', '1,109,390'], ['다이슨 V15 디텍트 앱솔루트 엑스트라', '핸디/스틱청소기 / 무선형 / 흡입전용 / 흡입력: 240AW / [배터리] 분리형 (1개) / 충전시간: 4시간30분 / 사용시간(개당): 1시간 / [성능] 헤파필터 / [기능] 먼지감지센서 / 디스플레이표시창 / [구성] 레이저슬림플러피 / 하이토크 / 헤어스크류 / 솔형 / 더스팅 / 스터번더트 / 틈새 / 업탑어댑터 / 거치대 / 도킹스테이션 / [부가] 먼지통용량: 0.54L / 색상: 옐로우/아이언/니켈 / 무게: 3kg / 크기(가로x세로x깊이): 250x1086x250mm', '1,098,000']]\n"
     ]
    }
   ],
   "source": [
    "# 반복문으로 검색 결과의 1페이지에 대한 상품 정보 추출\n",
    "prod_data = []\n",
    "\n",
    "for prod_item in prod_items:\n",
    "    if 'product-pot' in prod_item['class']:\n",
    "        continue\n",
    "    try : \n",
    "        # 1. 상품명 가져오기\n",
    "        title = prod_item.select('p.prod_name > a')[0].text.strip()\n",
    "        \n",
    "        # 2. 상품 스펙 목록 가져오기\n",
    "        spec_list = prod_item.select('div.spec_list')[0].text.replace('\\t', '').replace('\\n', '')\n",
    "        \n",
    "        # 3. 가격 정보 가져오기\n",
    "        price = prod_item.select('li.rank_one > p.price_sect > a > strong')[0].text.strip().replace('\\t', '').replace('\\n', '')\n",
    "        \n",
    "        prod_data.append([title, spec_list, price])\n",
    "    except:\n",
    "        pass # error 발생시 넘어가기 (ex. 광고성 제품)\n",
    "\n",
    "print(len(prod_data))\n",
    "print(prod_data)"
   ]
  },
  {
   "cell_type": "code",
   "execution_count": 36,
   "id": "19b61a93",
   "metadata": {},
   "outputs": [],
   "source": [
    "# 함수로 만들기\n",
    "def get_prod_items(prod_items):\n",
    "    prod_data = []\n",
    "\n",
    "    for prod_item in prod_items:\n",
    "        if 'product-pot' in prod_item['class']:\n",
    "            continue\n",
    "        try : \n",
    "            # 1. 상품명 가져오기\n",
    "            title = prod_item.select('p.prod_name > a')[0].text.strip()\n",
    "\n",
    "            # 2. 상품 스펙 목록 가져오기\n",
    "            spec_list = prod_item.select('div.spec_list')[0].text.replace('\\t', '').replace('\\n', '')\n",
    "\n",
    "            # 3. 가격 정보 가져오기\n",
    "            price = prod_item.select('li.rank_one > p.price_sect > a > strong')[0].text.strip().replace('\\t', '').replace('\\n', '')\n",
    "\n",
    "            prod_data.append([title, spec_list, price])\n",
    "        except:\n",
    "            pass # error 발생시 넘어가기 (ex. 광고성 제품)\n",
    "    return prod_data   "
   ]
  },
  {
   "cell_type": "code",
   "execution_count": 37,
   "id": "1965f11f",
   "metadata": {},
   "outputs": [
    {
     "name": "stdout",
     "output_type": "stream",
     "text": [
      "40\n"
     ]
    }
   ],
   "source": [
    "# 함수 테스트\n",
    "prod_items = soup.select('div.main_prodlist > ul.product_list > li.prod_item')\n",
    "prod_data = get_prod_items(prod_items)\n",
    "print(len(prod_data))"
   ]
  },
  {
   "cell_type": "markdown",
   "id": "6466e2e0",
   "metadata": {},
   "source": [
    "# 2. 데이터 수집2 - 여러 페이지 크롤링"
   ]
  },
  {
   "cell_type": "markdown",
   "id": "68482691",
   "metadata": {},
   "source": [
    "## 1) 다나와 검색 결과 페이지 url 분석"
   ]
  },
  {
   "cell_type": "code",
   "execution_count": 38,
   "id": "4e6e67f8",
   "metadata": {},
   "outputs": [],
   "source": [
    "# 다나와 검색 url을 만들어주는 함수\n",
    "def get_search_page_url(keyword, page):\n",
    "    return 'http://search.danawa.com/dsearch.php?query={}&volumeType=allvs&page={}&limit=40&sort=saveDESC&list=list&boost=true&addDelivery=N&recommendedSort=Y&defaultUICategoryCode=14237761&defaultPhysicsCategoryCode=1840%7C59152%7C59189%7C0&defaultVmTab=2944&defaultVaTab=417205&tab=goods'.format(keyword, page)"
   ]
  },
  {
   "cell_type": "code",
   "execution_count": 41,
   "id": "c9494ee7",
   "metadata": {},
   "outputs": [
    {
     "name": "stdout",
     "output_type": "stream",
     "text": [
      "http://search.danawa.com/dsearch.php?query=무선청소기&volumeType=allvs&page=1&limit=40&sort=saveDESC&list=list&boost=true&addDelivery=N&recommendedSort=Y&defaultUICategoryCode=14237761&defaultPhysicsCategoryCode=1840%7C59152%7C59189%7C0&defaultVmTab=2944&defaultVaTab=417205&tab=goods\n"
     ]
    }
   ],
   "source": [
    "keyword = '무선청소기'\n",
    "page = 1\n",
    "url = get_search_page_url(keyword, page)\n",
    "print(url)"
   ]
  },
  {
   "cell_type": "code",
   "execution_count": null,
   "id": "bbd7d408",
   "metadata": {},
   "outputs": [],
   "source": [
    "# 브라우저 종료\n",
    "driver.quit()"
   ]
  },
  {
   "cell_type": "markdown",
   "id": "73dc3233",
   "metadata": {},
   "source": [
    "## 2) 주피터 노트북의 진행표시줄 처리"
   ]
  },
  {
   "cell_type": "code",
   "execution_count": 42,
   "id": "e51bbc74",
   "metadata": {},
   "outputs": [
    {
     "name": "stdout",
     "output_type": "stream",
     "text": [
      "Requirement already satisfied: tqdm in c:\\users\\thwjd\\anaconda3\\lib\\site-packages (4.59.0)\n"
     ]
    }
   ],
   "source": [
    "# tqdm 라이브러리 설치\n",
    "!pip install tqdm"
   ]
  },
  {
   "cell_type": "code",
   "execution_count": 43,
   "id": "b601b47a",
   "metadata": {},
   "outputs": [
    {
     "name": "stderr",
     "output_type": "stream",
     "text": [
      "<ipython-input-43-3af99a3abb83>:5: TqdmDeprecationWarning: This function will be removed in tqdm==5.0.0\n",
      "Please use `tqdm.notebook.tqdm` instead of `tqdm.tqdm_notebook`\n",
      "  for page in tqdm_notebook(range(1, total_page+1)):\n"
     ]
    },
    {
     "data": {
      "application/vnd.jupyter.widget-view+json": {
       "model_id": "ba2f8e87fc554ec7af44ce37ebc75580",
       "version_major": 2,
       "version_minor": 0
      },
      "text/plain": [
       "  0%|          | 0/10 [00:00<?, ?it/s]"
      ]
     },
     "metadata": {},
     "output_type": "display_data"
    }
   ],
   "source": [
    "# tqdm 사용방법\n",
    "import time\n",
    "from tqdm import tqdm_notebook\n",
    "total_page = 10\n",
    "for page in tqdm_notebook(range(1, total_page+1)):\n",
    "    # 일정 시간 프로세스 일시 정지하기 -> 여기서는 5초를 주었다.\n",
    "    time.sleep(5)"
   ]
  },
  {
   "cell_type": "markdown",
   "id": "4f58c0fc",
   "metadata": {},
   "source": [
    "## 3) 여러 페이지에 걸친 상품 정보 수집"
   ]
  },
  {
   "cell_type": "code",
   "execution_count": null,
   "id": "4df4d474",
   "metadata": {},
   "outputs": [],
   "source": [
    "# driver 새로 시작\n",
    "driver = webdriver.Chrome('C:/Users/thwjd/Documents/chromedriver.exe')"
   ]
  },
  {
   "cell_type": "code",
   "execution_count": 53,
   "id": "b9962c10",
   "metadata": {},
   "outputs": [],
   "source": [
    "from selenium import webdriver\n",
    "import time\n",
    "from bs4 import BeautifulSoup\n",
    "from tqdm import tqdm_notebook"
   ]
  },
  {
   "cell_type": "code",
   "execution_count": 54,
   "id": "8543ad4d",
   "metadata": {},
   "outputs": [],
   "source": [
    "keyword = '무선청소기'\n",
    "total_page = 5\n",
    "prod_data_total = []"
   ]
  },
  {
   "cell_type": "code",
   "execution_count": 55,
   "id": "d2150d87",
   "metadata": {},
   "outputs": [
    {
     "name": "stderr",
     "output_type": "stream",
     "text": [
      "<ipython-input-55-625b437ea44b>:1: TqdmDeprecationWarning: This function will be removed in tqdm==5.0.0\n",
      "Please use `tqdm.notebook.tqdm` instead of `tqdm.tqdm_notebook`\n",
      "  for page in tqdm_notebook(range(1, total_page+1)):\n"
     ]
    },
    {
     "data": {
      "application/vnd.jupyter.widget-view+json": {
       "model_id": "3906bdc455c140169ee8f7f9b7ea9ee1",
       "version_major": 2,
       "version_minor": 0
      },
      "text/plain": [
       "  0%|          | 0/5 [00:00<?, ?it/s]"
      ]
     },
     "metadata": {},
     "output_type": "display_data"
    }
   ],
   "source": [
    "for page in tqdm_notebook(range(1, total_page+1)):\n",
    "    # 1. 검색 페이지 이동\n",
    "    url = get_search_page_url(keyword, page)\n",
    "    driver.get(url) # URL에 접근하는 메소드\n",
    "    \n",
    "    # 2.페이지 로딩 완료 시간으로 5초를 할당\n",
    "    time.sleep(5)\n",
    "    \n",
    "    # 3. 현재 페이지의 html 정보 가져오기\n",
    "    html = driver.page_source\n",
    "    soup = BeautifulSoup(html, 'html.parser')\n",
    "    \n",
    "    # 4. 상품 정보 추출\n",
    "    prod_items = soup.select('div#productListArea > div.main_prodlist > ul.product_list > li.prod_item')\n",
    "    prod_item_list = get_prod_items(prod_items)\n",
    "    \n",
    "    # 5. 추출 데이터 저장\n",
    "    prod_data_total = prod_data_total + prod_item_list"
   ]
  },
  {
   "attachments": {
    "image.png": {
     "image/png": "[encoded data removed]"
    }
   },
   "cell_type": "markdown",
   "id": "0a01f6f4",
   "metadata": {},
   "source": [
    "![image.png](attachment:image.png)\n",
    "\n",
    "drive.get(url)에서 위 같은 에러가 뜬다면`drive.quit()`로 브라우저를 종료하고 나서 다시 하면 정상적으로 작동한다."
   ]
  },
  {
   "cell_type": "markdown",
   "id": "0eae9f59",
   "metadata": {},
   "source": [
    "## 4) 수집 데이터 저장"
   ]
  },
  {
   "cell_type": "code",
   "execution_count": 56,
   "id": "4b9ceb3b",
   "metadata": {},
   "outputs": [],
   "source": [
    "import pandas as pd\n",
    "\n",
    "data = pd.DataFrame(prod_data_total)\n",
    "data.columns = ['상품명', '스펙 목록', '가격']\n",
    "data.to_excel('./danawa_crawling_result_1.xlsx', index=False)"
   ]
  },
  {
   "cell_type": "markdown",
   "id": "edd9c824",
   "metadata": {},
   "source": [
    "# 3. 다나와 크롤링 데이터 전처리"
   ]
  },
  {
   "cell_type": "markdown",
   "id": "c872c152",
   "metadata": {},
   "source": [
    "## 1) 크롤링 데이터 불러오기"
   ]
  },
  {
   "cell_type": "code",
   "execution_count": 59,
   "id": "1a6a3c1e",
   "metadata": {},
   "outputs": [],
   "source": [
    "data = pd.read_excel('./danawa_crawling_result_1.xlsx')"
   ]
  },
  {
   "cell_type": "code",
   "execution_count": 60,
   "id": "46f9cce9",
   "metadata": {},
   "outputs": [
    {
     "name": "stdout",
     "output_type": "stream",
     "text": [
      "<class 'pandas.core.frame.DataFrame'>\n",
      "RangeIndex: 200 entries, 0 to 199\n",
      "Data columns (total 3 columns):\n",
      " #   Column  Non-Null Count  Dtype \n",
      "---  ------  --------------  ----- \n",
      " 0   상품명     200 non-null    object\n",
      " 1   스펙 목록   200 non-null    object\n",
      " 2   가격      200 non-null    object\n",
      "dtypes: object(3)\n",
      "memory usage: 4.8+ KB\n"
     ]
    }
   ],
   "source": [
    "data.info()"
   ]
  },
  {
   "cell_type": "code",
   "execution_count": 61,
   "id": "5504db51",
   "metadata": {},
   "outputs": [
    {
     "data": {
      "text/html": [
       "<div>\n",
       "<style scoped>\n",
       "    .dataframe tbody tr th:only-of-type {\n",
       "        vertical-align: middle;\n",
       "    }\n",
       "\n",
       "    .dataframe tbody tr th {\n",
       "        vertical-align: top;\n",
       "    }\n",
       "\n",
       "    .dataframe thead th {\n",
       "        text-align: right;\n",
       "    }\n",
       "</style>\n",
       "<table border=\"1\" class=\"dataframe\">\n",
       "  <thead>\n",
       "    <tr style=\"text-align: right;\">\n",
       "      <th></th>\n",
       "      <th>상품명</th>\n",
       "      <th>스펙 목록</th>\n",
       "      <th>가격</th>\n",
       "    </tr>\n",
       "  </thead>\n",
       "  <tbody>\n",
       "    <tr>\n",
       "      <th>0</th>\n",
       "      <td>베이스어스 차량용 청소기 A3 (해외구매)</td>\n",
       "      <td>차량용청소기 / 무선 / 흡입력: 15,000Pa / 최대출력: 135W / 헤파필...</td>\n",
       "      <td>46,010</td>\n",
       "    </tr>\n",
       "    <tr>\n",
       "      <th>1</th>\n",
       "      <td>LG전자 오브제컬렉션 코드제로 ThinQ A9S AO9571</td>\n",
       "      <td>핸디/스틱청소기 / 무선형 / 흡입+걸레겸용 / 흡입력: 210W / [배터리] 분...</td>\n",
       "      <td>963,420</td>\n",
       "    </tr>\n",
       "    <tr>\n",
       "      <th>2</th>\n",
       "      <td>LG전자 오브제컬렉션 코드제로 ThinQ A9S AT9201WC</td>\n",
       "      <td>핸디/스틱청소기 / 무선형 / 흡입+걸레겸용 / 흡입력: 210W / [배터리] 분...</td>\n",
       "      <td>682,900</td>\n",
       "    </tr>\n",
       "    <tr>\n",
       "      <th>3</th>\n",
       "      <td>샤오미 드리미 V11 SE</td>\n",
       "      <td>핸디/스틱청소기 / 무선형 / 흡입전용 / 흡입력: 150AW / 흡입력: 2400...</td>\n",
       "      <td>162,320</td>\n",
       "    </tr>\n",
       "    <tr>\n",
       "      <th>4</th>\n",
       "      <td>샤오미 LYDSTO 차량용 무선 청소기 H2 (해외구매)</td>\n",
       "      <td>차량용청소기 / 무선 / 흡입력: 16,000Pa / 최대출력: 120W / 헤파필...</td>\n",
       "      <td>34,320</td>\n",
       "    </tr>\n",
       "  </tbody>\n",
       "</table>\n",
       "</div>"
      ],
      "text/plain": [
       "                                   상품명  \\\n",
       "0              베이스어스 차량용 청소기 A3 (해외구매)   \n",
       "1    LG전자 오브제컬렉션 코드제로 ThinQ A9S AO9571   \n",
       "2  LG전자 오브제컬렉션 코드제로 ThinQ A9S AT9201WC   \n",
       "3                       샤오미 드리미 V11 SE   \n",
       "4      샤오미 LYDSTO 차량용 무선 청소기 H2 (해외구매)   \n",
       "\n",
       "                                               스펙 목록       가격  \n",
       "0  차량용청소기 / 무선 / 흡입력: 15,000Pa / 최대출력: 135W / 헤파필...   46,010  \n",
       "1  핸디/스틱청소기 / 무선형 / 흡입+걸레겸용 / 흡입력: 210W / [배터리] 분...  963,420  \n",
       "2  핸디/스틱청소기 / 무선형 / 흡입+걸레겸용 / 흡입력: 210W / [배터리] 분...  682,900  \n",
       "3  핸디/스틱청소기 / 무선형 / 흡입전용 / 흡입력: 150AW / 흡입력: 2400...  162,320  \n",
       "4  차량용청소기 / 무선 / 흡입력: 16,000Pa / 최대출력: 120W / 헤파필...   34,320  "
      ]
     },
     "execution_count": 61,
     "metadata": {},
     "output_type": "execute_result"
    }
   ],
   "source": [
    "data.head()"
   ]
  },
  {
   "cell_type": "markdown",
   "id": "dfdb4340",
   "metadata": {},
   "source": [
    "## 2) 회사명, 모델명 정리"
   ]
  },
  {
   "cell_type": "code",
   "execution_count": 62,
   "id": "b1eea005",
   "metadata": {},
   "outputs": [],
   "source": [
    "company_list = []\n",
    "product_list = []\n",
    "\n",
    "for titme in data['상품명']:\n",
    "    title_info = title.split(' ', 1) # (구분자, 분할 횟수)\n",
    "    company_name = title_info[0]\n",
    "    product_name = title_info[1]\n",
    "    company_list.append(company_name)\n",
    "    product_list.append(product_name)"
   ]
  },
  {
   "cell_type": "code",
   "execution_count": 63,
   "id": "a12b0ecd",
   "metadata": {},
   "outputs": [
    {
     "data": {
      "text/plain": [
       "['다이슨',\n",
       " '다이슨',\n",
       " '다이슨',\n",
       " '다이슨',\n",
       " '다이슨',\n",
       " '다이슨',\n",
       " '다이슨',\n",
       " '다이슨',\n",
       " '다이슨',\n",
       " '다이슨',\n",
       " '다이슨',\n",
       " '다이슨',\n",
       " '다이슨',\n",
       " '다이슨',\n",
       " '다이슨',\n",
       " '다이슨',\n",
       " '다이슨',\n",
       " '다이슨',\n",
       " '다이슨',\n",
       " '다이슨',\n",
       " '다이슨',\n",
       " '다이슨',\n",
       " '다이슨',\n",
       " '다이슨',\n",
       " '다이슨',\n",
       " '다이슨',\n",
       " '다이슨',\n",
       " '다이슨',\n",
       " '다이슨',\n",
       " '다이슨',\n",
       " '다이슨',\n",
       " '다이슨',\n",
       " '다이슨',\n",
       " '다이슨',\n",
       " '다이슨',\n",
       " '다이슨',\n",
       " '다이슨',\n",
       " '다이슨',\n",
       " '다이슨',\n",
       " '다이슨',\n",
       " '다이슨',\n",
       " '다이슨',\n",
       " '다이슨',\n",
       " '다이슨',\n",
       " '다이슨',\n",
       " '다이슨',\n",
       " '다이슨',\n",
       " '다이슨',\n",
       " '다이슨',\n",
       " '다이슨',\n",
       " '다이슨',\n",
       " '다이슨',\n",
       " '다이슨',\n",
       " '다이슨',\n",
       " '다이슨',\n",
       " '다이슨',\n",
       " '다이슨',\n",
       " '다이슨',\n",
       " '다이슨',\n",
       " '다이슨',\n",
       " '다이슨',\n",
       " '다이슨',\n",
       " '다이슨',\n",
       " '다이슨',\n",
       " '다이슨',\n",
       " '다이슨',\n",
       " '다이슨',\n",
       " '다이슨',\n",
       " '다이슨',\n",
       " '다이슨',\n",
       " '다이슨',\n",
       " '다이슨',\n",
       " '다이슨',\n",
       " '다이슨',\n",
       " '다이슨',\n",
       " '다이슨',\n",
       " '다이슨',\n",
       " '다이슨',\n",
       " '다이슨',\n",
       " '다이슨',\n",
       " '다이슨',\n",
       " '다이슨',\n",
       " '다이슨',\n",
       " '다이슨',\n",
       " '다이슨',\n",
       " '다이슨',\n",
       " '다이슨',\n",
       " '다이슨',\n",
       " '다이슨',\n",
       " '다이슨',\n",
       " '다이슨',\n",
       " '다이슨',\n",
       " '다이슨',\n",
       " '다이슨',\n",
       " '다이슨',\n",
       " '다이슨',\n",
       " '다이슨',\n",
       " '다이슨',\n",
       " '다이슨',\n",
       " '다이슨',\n",
       " '다이슨',\n",
       " '다이슨',\n",
       " '다이슨',\n",
       " '다이슨',\n",
       " '다이슨',\n",
       " '다이슨',\n",
       " '다이슨',\n",
       " '다이슨',\n",
       " '다이슨',\n",
       " '다이슨',\n",
       " '다이슨',\n",
       " '다이슨',\n",
       " '다이슨',\n",
       " '다이슨',\n",
       " '다이슨',\n",
       " '다이슨',\n",
       " '다이슨',\n",
       " '다이슨',\n",
       " '다이슨',\n",
       " '다이슨',\n",
       " '다이슨',\n",
       " '다이슨',\n",
       " '다이슨',\n",
       " '다이슨',\n",
       " '다이슨',\n",
       " '다이슨',\n",
       " '다이슨',\n",
       " '다이슨',\n",
       " '다이슨',\n",
       " '다이슨',\n",
       " '다이슨',\n",
       " '다이슨',\n",
       " '다이슨',\n",
       " '다이슨',\n",
       " '다이슨',\n",
       " '다이슨',\n",
       " '다이슨',\n",
       " '다이슨',\n",
       " '다이슨',\n",
       " '다이슨',\n",
       " '다이슨',\n",
       " '다이슨',\n",
       " '다이슨',\n",
       " '다이슨',\n",
       " '다이슨',\n",
       " '다이슨',\n",
       " '다이슨',\n",
       " '다이슨',\n",
       " '다이슨',\n",
       " '다이슨',\n",
       " '다이슨',\n",
       " '다이슨',\n",
       " '다이슨',\n",
       " '다이슨',\n",
       " '다이슨',\n",
       " '다이슨',\n",
       " '다이슨',\n",
       " '다이슨',\n",
       " '다이슨',\n",
       " '다이슨',\n",
       " '다이슨',\n",
       " '다이슨',\n",
       " '다이슨',\n",
       " '다이슨',\n",
       " '다이슨',\n",
       " '다이슨',\n",
       " '다이슨',\n",
       " '다이슨',\n",
       " '다이슨',\n",
       " '다이슨',\n",
       " '다이슨',\n",
       " '다이슨',\n",
       " '다이슨',\n",
       " '다이슨',\n",
       " '다이슨',\n",
       " '다이슨',\n",
       " '다이슨',\n",
       " '다이슨',\n",
       " '다이슨',\n",
       " '다이슨',\n",
       " '다이슨',\n",
       " '다이슨',\n",
       " '다이슨',\n",
       " '다이슨',\n",
       " '다이슨',\n",
       " '다이슨',\n",
       " '다이슨',\n",
       " '다이슨',\n",
       " '다이슨',\n",
       " '다이슨',\n",
       " '다이슨',\n",
       " '다이슨',\n",
       " '다이슨',\n",
       " '다이슨',\n",
       " '다이슨',\n",
       " '다이슨',\n",
       " '다이슨',\n",
       " '다이슨',\n",
       " '다이슨',\n",
       " '다이슨']"
      ]
     },
     "execution_count": 63,
     "metadata": {},
     "output_type": "execute_result"
    }
   ],
   "source": [
    "company_list"
   ]
  },
  {
   "cell_type": "code",
   "execution_count": null,
   "id": "5ae1c075",
   "metadata": {},
   "outputs": [],
   "source": []
  }
 ],
 "metadata": {
  "kernelspec": {
   "display_name": "Python 3",
   "language": "python",
   "name": "python3"
  },
  "language_info": {
   "codemirror_mode": {
    "name": "ipython",
    "version": 3
   },
   "file_extension": ".py",
   "mimetype": "text/x-python",
   "name": "python",
   "nbconvert_exporter": "python",
   "pygments_lexer": "ipython3",
   "version": "3.8.8"
  }
 },
 "nbformat": 4,
 "nbformat_minor": 5
}
